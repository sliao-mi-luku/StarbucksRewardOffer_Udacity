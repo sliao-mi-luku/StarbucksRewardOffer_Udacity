{
  "nbformat": 4,
  "nbformat_minor": 0,
  "metadata": {
    "colab": {
      "name": "Starbucks_exploration.ipynb",
      "provenance": [],
      "collapsed_sections": [],
      "toc_visible": true
    },
    "kernelspec": {
      "name": "python3",
      "display_name": "Python 3"
    }
  },
  "cells": [
    {
      "cell_type": "markdown",
      "metadata": {
        "id": "NrQZwJUnRB3M"
      },
      "source": [
        "# Starbucks Project\n",
        "\n",
        "## Data Exploration\n",
        "\n",
        "---\n",
        "\n",
        "Updated on December 05, 2020"
      ]
    },
    {
      "cell_type": "code",
      "metadata": {
        "id": "FKRUk7EpQn_4"
      },
      "source": [
        "import numpy as np\n",
        "import pandas as pd\n",
        "import random\n",
        "import math\n",
        "import json\n",
        "import matplotlib.pyplot as plt\n",
        "\n",
        "%matplotlib inline"
      ],
      "execution_count": 1,
      "outputs": []
    },
    {
      "cell_type": "code",
      "metadata": {
        "id": "yC81aTXLQ6dD"
      },
      "source": [
        "portfolio_df = pd.read_json('portfolio.json', orient = 'records', lines = True)\n",
        "profile_df = pd.read_json('profile.json', orient = 'records', lines = True)\n",
        "transcript_df = pd.read_json('transcript.json', orient = 'records', lines = True)"
      ],
      "execution_count": 2,
      "outputs": []
    },
    {
      "cell_type": "markdown",
      "metadata": {
        "id": "Dc4B4OYy3Fn2"
      },
      "source": [
        "Below we walk through some exploratory analysis of the data."
      ]
    },
    {
      "cell_type": "markdown",
      "metadata": {
        "id": "dT1xEt3xTXts"
      },
      "source": [
        "## I. Portfolio_df\n",
        "\n",
        "`portfolio_df` contains the **information of the offers**, whcih has the following columns:\n",
        "\n",
        "- `reward` (int) reward given. Range from 0 to 10\n",
        "- `difficulty` (int) minimum spend required to complete the offer\n",
        "- `duration` (int) duration of the offer (unit: days)\n",
        "- `offer_type` (str) the type of the offer (`bogo`, `informational`, `discount`)\n",
        "- `id` (str) the offer id\n"
      ]
    },
    {
      "cell_type": "code",
      "metadata": {
        "colab": {
          "base_uri": "https://localhost:8080/",
          "height": 216
        },
        "id": "pTcKFQM3TQPh",
        "outputId": "b0991bff-2c6e-464f-e8be-a5aac49b3370"
      },
      "source": [
        "print(\"Shape of portfolio_df = {}\".format(portfolio_df.shape))\n",
        "portfolio_df.head(5)"
      ],
      "execution_count": 4,
      "outputs": [
        {
          "output_type": "stream",
          "text": [
            "Shape of portfolio_df = (10, 6)\n"
          ],
          "name": "stdout"
        },
        {
          "output_type": "execute_result",
          "data": {
            "text/html": [
              "<div>\n",
              "<style scoped>\n",
              "    .dataframe tbody tr th:only-of-type {\n",
              "        vertical-align: middle;\n",
              "    }\n",
              "\n",
              "    .dataframe tbody tr th {\n",
              "        vertical-align: top;\n",
              "    }\n",
              "\n",
              "    .dataframe thead th {\n",
              "        text-align: right;\n",
              "    }\n",
              "</style>\n",
              "<table border=\"1\" class=\"dataframe\">\n",
              "  <thead>\n",
              "    <tr style=\"text-align: right;\">\n",
              "      <th></th>\n",
              "      <th>reward</th>\n",
              "      <th>channels</th>\n",
              "      <th>difficulty</th>\n",
              "      <th>duration</th>\n",
              "      <th>offer_type</th>\n",
              "      <th>id</th>\n",
              "    </tr>\n",
              "  </thead>\n",
              "  <tbody>\n",
              "    <tr>\n",
              "      <th>0</th>\n",
              "      <td>10</td>\n",
              "      <td>[email, mobile, social]</td>\n",
              "      <td>10</td>\n",
              "      <td>7</td>\n",
              "      <td>bogo</td>\n",
              "      <td>ae264e3637204a6fb9bb56bc8210ddfd</td>\n",
              "    </tr>\n",
              "    <tr>\n",
              "      <th>1</th>\n",
              "      <td>10</td>\n",
              "      <td>[web, email, mobile, social]</td>\n",
              "      <td>10</td>\n",
              "      <td>5</td>\n",
              "      <td>bogo</td>\n",
              "      <td>4d5c57ea9a6940dd891ad53e9dbe8da0</td>\n",
              "    </tr>\n",
              "    <tr>\n",
              "      <th>2</th>\n",
              "      <td>0</td>\n",
              "      <td>[web, email, mobile]</td>\n",
              "      <td>0</td>\n",
              "      <td>4</td>\n",
              "      <td>informational</td>\n",
              "      <td>3f207df678b143eea3cee63160fa8bed</td>\n",
              "    </tr>\n",
              "    <tr>\n",
              "      <th>3</th>\n",
              "      <td>5</td>\n",
              "      <td>[web, email, mobile]</td>\n",
              "      <td>5</td>\n",
              "      <td>7</td>\n",
              "      <td>bogo</td>\n",
              "      <td>9b98b8c7a33c4b65b9aebfe6a799e6d9</td>\n",
              "    </tr>\n",
              "    <tr>\n",
              "      <th>4</th>\n",
              "      <td>5</td>\n",
              "      <td>[web, email]</td>\n",
              "      <td>20</td>\n",
              "      <td>10</td>\n",
              "      <td>discount</td>\n",
              "      <td>0b1e1539f2cc45b7b9fa7c272da2e1d7</td>\n",
              "    </tr>\n",
              "  </tbody>\n",
              "</table>\n",
              "</div>"
            ],
            "text/plain": [
              "   reward  ...                                id\n",
              "0      10  ...  ae264e3637204a6fb9bb56bc8210ddfd\n",
              "1      10  ...  4d5c57ea9a6940dd891ad53e9dbe8da0\n",
              "2       0  ...  3f207df678b143eea3cee63160fa8bed\n",
              "3       5  ...  9b98b8c7a33c4b65b9aebfe6a799e6d9\n",
              "4       5  ...  0b1e1539f2cc45b7b9fa7c272da2e1d7\n",
              "\n",
              "[5 rows x 6 columns]"
            ]
          },
          "metadata": {
            "tags": []
          },
          "execution_count": 4
        }
      ]
    },
    {
      "cell_type": "code",
      "metadata": {
        "colab": {
          "base_uri": "https://localhost:8080/",
          "height": 288
        },
        "id": "0B-yB2ILWVFb",
        "outputId": "8626b5e0-46cf-4904-fca0-e803c526d678"
      },
      "source": [
        "portfolio_df.describe()"
      ],
      "execution_count": 7,
      "outputs": [
        {
          "output_type": "execute_result",
          "data": {
            "text/html": [
              "<div>\n",
              "<style scoped>\n",
              "    .dataframe tbody tr th:only-of-type {\n",
              "        vertical-align: middle;\n",
              "    }\n",
              "\n",
              "    .dataframe tbody tr th {\n",
              "        vertical-align: top;\n",
              "    }\n",
              "\n",
              "    .dataframe thead th {\n",
              "        text-align: right;\n",
              "    }\n",
              "</style>\n",
              "<table border=\"1\" class=\"dataframe\">\n",
              "  <thead>\n",
              "    <tr style=\"text-align: right;\">\n",
              "      <th></th>\n",
              "      <th>reward</th>\n",
              "      <th>difficulty</th>\n",
              "      <th>duration</th>\n",
              "    </tr>\n",
              "  </thead>\n",
              "  <tbody>\n",
              "    <tr>\n",
              "      <th>count</th>\n",
              "      <td>10.000000</td>\n",
              "      <td>10.000000</td>\n",
              "      <td>10.000000</td>\n",
              "    </tr>\n",
              "    <tr>\n",
              "      <th>mean</th>\n",
              "      <td>4.200000</td>\n",
              "      <td>7.700000</td>\n",
              "      <td>6.500000</td>\n",
              "    </tr>\n",
              "    <tr>\n",
              "      <th>std</th>\n",
              "      <td>3.583915</td>\n",
              "      <td>5.831905</td>\n",
              "      <td>2.321398</td>\n",
              "    </tr>\n",
              "    <tr>\n",
              "      <th>min</th>\n",
              "      <td>0.000000</td>\n",
              "      <td>0.000000</td>\n",
              "      <td>3.000000</td>\n",
              "    </tr>\n",
              "    <tr>\n",
              "      <th>25%</th>\n",
              "      <td>2.000000</td>\n",
              "      <td>5.000000</td>\n",
              "      <td>5.000000</td>\n",
              "    </tr>\n",
              "    <tr>\n",
              "      <th>50%</th>\n",
              "      <td>4.000000</td>\n",
              "      <td>8.500000</td>\n",
              "      <td>7.000000</td>\n",
              "    </tr>\n",
              "    <tr>\n",
              "      <th>75%</th>\n",
              "      <td>5.000000</td>\n",
              "      <td>10.000000</td>\n",
              "      <td>7.000000</td>\n",
              "    </tr>\n",
              "    <tr>\n",
              "      <th>max</th>\n",
              "      <td>10.000000</td>\n",
              "      <td>20.000000</td>\n",
              "      <td>10.000000</td>\n",
              "    </tr>\n",
              "  </tbody>\n",
              "</table>\n",
              "</div>"
            ],
            "text/plain": [
              "          reward  difficulty   duration\n",
              "count  10.000000   10.000000  10.000000\n",
              "mean    4.200000    7.700000   6.500000\n",
              "std     3.583915    5.831905   2.321398\n",
              "min     0.000000    0.000000   3.000000\n",
              "25%     2.000000    5.000000   5.000000\n",
              "50%     4.000000    8.500000   7.000000\n",
              "75%     5.000000   10.000000   7.000000\n",
              "max    10.000000   20.000000  10.000000"
            ]
          },
          "metadata": {
            "tags": []
          },
          "execution_count": 7
        }
      ]
    },
    {
      "cell_type": "code",
      "metadata": {
        "colab": {
          "base_uri": "https://localhost:8080/",
          "height": 181
        },
        "id": "iNpipCcPUYJr",
        "outputId": "77b69672-ba7d-4324-b3da-8beb14af4fbc"
      },
      "source": [
        "plt.figure()\n",
        "fig, _ = plt.subplots(1,3)\n",
        "fig.tight_layout()\n",
        "plt.subplot(1,3,1)\n",
        "plt.hist(portfolio_df['reward'], bins = range(11))\n",
        "plt.title(\"reward\")\n",
        "plt.axis('square')\n",
        "plt.subplot(1,3,2)\n",
        "plt.hist(portfolio_df['difficulty'], bins = range(11))\n",
        "plt.title(\"difficulty\")\n",
        "plt.axis('square')\n",
        "plt.subplot(1,3,3)\n",
        "plt.hist(portfolio_df['duration'], bins = range(11))\n",
        "plt.title(\"duration\")\n",
        "plt.axis('square')\n",
        "\n",
        "plt.show()"
      ],
      "execution_count": 8,
      "outputs": [
        {
          "output_type": "display_data",
          "data": {
            "text/plain": [
              "<Figure size 432x288 with 0 Axes>"
            ]
          },
          "metadata": {
            "tags": []
          }
        },
        {
          "output_type": "display_data",
          "data": {
            "image/png": "[encoded data removed]",
            "text/plain": [
              "<Figure size 432x288 with 3 Axes>"
            ]
          },
          "metadata": {
            "tags": [],
            "needs_background": "light"
          }
        }
      ]
    },
    {
      "cell_type": "markdown",
      "metadata": {
        "id": "fBdVmgS5XHXz"
      },
      "source": [
        "## Profile_df\n",
        "\n",
        "`profile_df` contains the following columns:\n",
        "\n",
        "- `gender` (str) the gender (`None`, `F`, `M`, `O`)\n",
        "- `age` (int) age of the customer\n",
        "- `id` (str) the customer id (all distinct)\n",
        "- `became_member_on` (int) the date when custer created an app account\n",
        "- `income` (float) customer's income"
      ]
    },
    {
      "cell_type": "code",
      "metadata": {
        "colab": {
          "base_uri": "https://localhost:8080/",
          "height": 156
        },
        "id": "N8jzNnV2TSZj",
        "outputId": "0fe536dc-9e9a-4a47-97e0-edebe1c89ed6"
      },
      "source": [
        "print(\"Shape of profile_df = {}\".format(profile_df.shape))\n",
        "profile_df.head(3)"
      ],
      "execution_count": 11,
      "outputs": [
        {
          "output_type": "stream",
          "text": [
            "Shape of profile_df = (17000, 5)\n"
          ],
          "name": "stdout"
        },
        {
          "output_type": "execute_result",
          "data": {
            "text/html": [
              "<div>\n",
              "<style scoped>\n",
              "    .dataframe tbody tr th:only-of-type {\n",
              "        vertical-align: middle;\n",
              "    }\n",
              "\n",
              "    .dataframe tbody tr th {\n",
              "        vertical-align: top;\n",
              "    }\n",
              "\n",
              "    .dataframe thead th {\n",
              "        text-align: right;\n",
              "    }\n",
              "</style>\n",
              "<table border=\"1\" class=\"dataframe\">\n",
              "  <thead>\n",
              "    <tr style=\"text-align: right;\">\n",
              "      <th></th>\n",
              "      <th>gender</th>\n",
              "      <th>age</th>\n",
              "      <th>id</th>\n",
              "      <th>became_member_on</th>\n",
              "      <th>income</th>\n",
              "    </tr>\n",
              "  </thead>\n",
              "  <tbody>\n",
              "    <tr>\n",
              "      <th>0</th>\n",
              "      <td>None</td>\n",
              "      <td>118</td>\n",
              "      <td>68be06ca386d4c31939f3a4f0e3dd783</td>\n",
              "      <td>20170212</td>\n",
              "      <td>NaN</td>\n",
              "    </tr>\n",
              "    <tr>\n",
              "      <th>1</th>\n",
              "      <td>F</td>\n",
              "      <td>55</td>\n",
              "      <td>0610b486422d4921ae7d2bf64640c50b</td>\n",
              "      <td>20170715</td>\n",
              "      <td>112000.0</td>\n",
              "    </tr>\n",
              "    <tr>\n",
              "      <th>2</th>\n",
              "      <td>None</td>\n",
              "      <td>118</td>\n",
              "      <td>38fe809add3b4fcf9315a9694bb96ff5</td>\n",
              "      <td>20180712</td>\n",
              "      <td>NaN</td>\n",
              "    </tr>\n",
              "  </tbody>\n",
              "</table>\n",
              "</div>"
            ],
            "text/plain": [
              "  gender  age                                id  became_member_on    income\n",
              "0   None  118  68be06ca386d4c31939f3a4f0e3dd783          20170212       NaN\n",
              "1      F   55  0610b486422d4921ae7d2bf64640c50b          20170715  112000.0\n",
              "2   None  118  38fe809add3b4fcf9315a9694bb96ff5          20180712       NaN"
            ]
          },
          "metadata": {
            "tags": []
          },
          "execution_count": 11
        }
      ]
    },
    {
      "cell_type": "markdown",
      "metadata": {
        "id": "XP4FM6iWt5jL"
      },
      "source": [
        "### Gender analysis"
      ]
    },
    {
      "cell_type": "code",
      "metadata": {
        "colab": {
          "base_uri": "https://localhost:8080/",
          "height": 390
        },
        "id": "EY2w1dr8usEf",
        "outputId": "8c30ef5b-18b4-421b-d51b-287d3088b6ed"
      },
      "source": [
        "print(profile_df.groupby(['gender'], dropna = False).size())\n",
        "\n",
        "plt.figure()\n",
        "plt.bar(np.arange(4), profile_df.groupby(['gender'], dropna = False).size()/17000)\n",
        "plt.xticks(np.arange(4), (\"F\", \"M\", \"O\", \"NaN\"))\n",
        "plt.title(\"gender distribution\")\n",
        "plt.show()"
      ],
      "execution_count": 28,
      "outputs": [
        {
          "output_type": "stream",
          "text": [
            "gender\n",
            "F      6129\n",
            "M      8484\n",
            "O       212\n",
            "NaN    2175\n",
            "dtype: int64\n"
          ],
          "name": "stdout"
        },
        {
          "output_type": "display_data",
          "data": {
            "image/png": "[encoded data removed]",
            "text/plain": [
              "<Figure size 432x288 with 1 Axes>"
            ]
          },
          "metadata": {
            "tags": [],
            "needs_background": "light"
          }
        }
      ]
    },
    {
      "cell_type": "markdown",
      "metadata": {
        "id": "LaBApxhAwPaW"
      },
      "source": [
        "### Age analysis\n",
        "\n",
        "We se that the age distribution has the maximum around 50-60. And also a fat tail in the range 20-40.\n",
        "\n",
        "We observe no missing age data."
      ]
    },
    {
      "cell_type": "code",
      "metadata": {
        "colab": {
          "base_uri": "https://localhost:8080/",
          "height": 299
        },
        "id": "PcOoiXuJwVub",
        "outputId": "eff14416-caac-44d2-9a4f-819e840faad2"
      },
      "source": [
        "plt.figure()\n",
        "plt.hist(profile_df['age'].values, bins = np.arange(0, 120, 5), rwidth = 0.9)\n",
        "plt.title(\"age distribution\")\n",
        "plt.show()\n",
        "\n",
        "\n",
        "print(\"Number of NaN = {} ({:.2f}%)\".format(profile_df['age'].isna().sum(), profile_df['age'].isna().sum()/17000))"
      ],
      "execution_count": 36,
      "outputs": [
        {
          "output_type": "display_data",
          "data": {
            "image/png": "[encoded data removed]",
            "text/plain": [
              "<Figure size 432x288 with 1 Axes>"
            ]
          },
          "metadata": {
            "tags": [],
            "needs_background": "light"
          }
        },
        {
          "output_type": "stream",
          "text": [
            "Number of NaN = 0 (0.00%)\n"
          ],
          "name": "stdout"
        }
      ]
    },
    {
      "cell_type": "markdown",
      "metadata": {
        "id": "GPV8LijmyH88"
      },
      "source": [
        "### Income analysis\n",
        "\n",
        "We see that the income data lies between 30,000 to 120,000.\n",
        "\n",
        "It looks that we can split the distribution into 4 groups.\n",
        "\n",
        "There are 2,175 missing income data."
      ]
    },
    {
      "cell_type": "code",
      "metadata": {
        "colab": {
          "base_uri": "https://localhost:8080/",
          "height": 299
        },
        "id": "_r__dWXMyTXN",
        "outputId": "1b592398-0755-437a-e3f4-a5fa3bc52156"
      },
      "source": [
        "plt.figure()\n",
        "plt.hist(profile_df['income'].values, bins = np.arange(0, 140000, 5000), rwidth = 0.9)\n",
        "plt.title(\"Income distribution\")\n",
        "plt.show()\n",
        "\n",
        "\n",
        "print(\"Number of NaN = {} ({:.2f}%)\".format(profile_df['income'].isna().sum(), profile_df['income'].isna().sum()/17000))"
      ],
      "execution_count": 41,
      "outputs": [
        {
          "output_type": "display_data",
          "data": {
            "image/png": "[encoded data removed]",
            "text/plain": [
              "<Figure size 432x288 with 1 Axes>"
            ]
          },
          "metadata": {
            "tags": [],
            "needs_background": "light"
          }
        },
        {
          "output_type": "stream",
          "text": [
            "Number of NaN = 2175 (0.13%)\n"
          ],
          "name": "stdout"
        }
      ]
    },
    {
      "cell_type": "markdown",
      "metadata": {
        "id": "RUwsuaFvzBoF"
      },
      "source": [
        "### App account sign-up date analysis\n",
        "\n",
        "We convert the `became_member_on` column into `YYYY-MM-DD` format by the function `pd.to_datetime`"
      ]
    },
    {
      "cell_type": "code",
      "metadata": {
        "colab": {
          "base_uri": "https://localhost:8080/"
        },
        "id": "QexlxRTRzRuV",
        "outputId": "0a9b4ee4-471c-4c76-c68c-847f8d1752d7"
      },
      "source": [
        "## sudate (sign-up date)\n",
        "\n",
        "sudate = pd.to_datetime(profile_df['became_member_on'], format = '%Y%m%d')\n",
        "\n",
        "sudate.head(5)"
      ],
      "execution_count": 43,
      "outputs": [
        {
          "output_type": "execute_result",
          "data": {
            "text/plain": [
              "0   2017-02-12\n",
              "1   2017-07-15\n",
              "2   2018-07-12\n",
              "3   2017-05-09\n",
              "4   2017-08-04\n",
              "Name: became_member_on, dtype: datetime64[ns]"
            ]
          },
          "metadata": {
            "tags": []
          },
          "execution_count": 43
        }
      ]
    },
    {
      "cell_type": "markdown",
      "metadata": {
        "id": "tZ1JAWBX06XC"
      },
      "source": [
        "## Transcript_df\n",
        "\n",
        "`transcript_df` contains the following columns:\n",
        "\n",
        "- `person` (str) the customer id\n",
        "- `event` (str) type of the record (`offer received`, `offer viewed`, `transaction`, `offer completed`)\n",
        "- `value` (dict[str]) the detail of the event (see below) \n",
        "- `time` (int) time from the start of test (unit: hour)\n",
        "\n",
        "The keys of `transcript['value']` column depends on the type of the event:\n",
        "\n",
        "- if `event` = 'offer received', keys = 'offer id'\n",
        "- if `event` = 'offer viewed', keys = 'offer id'\n",
        "- if `event` = 'transaction', keys = 'amount'\n",
        "- if `event` = 'offer completed', keys = 'offer id'"
      ]
    },
    {
      "cell_type": "code",
      "metadata": {
        "colab": {
          "base_uri": "https://localhost:8080/",
          "height": 138
        },
        "id": "3dfp32qlTUAS",
        "outputId": "59bb2dcd-8f9d-4b2d-b0e8-75d87026f6d1"
      },
      "source": [
        "transcript_df.head(3)"
      ],
      "execution_count": 44,
      "outputs": [
        {
          "output_type": "execute_result",
          "data": {
            "text/html": [
              "<div>\n",
              "<style scoped>\n",
              "    .dataframe tbody tr th:only-of-type {\n",
              "        vertical-align: middle;\n",
              "    }\n",
              "\n",
              "    .dataframe tbody tr th {\n",
              "        vertical-align: top;\n",
              "    }\n",
              "\n",
              "    .dataframe thead th {\n",
              "        text-align: right;\n",
              "    }\n",
              "</style>\n",
              "<table border=\"1\" class=\"dataframe\">\n",
              "  <thead>\n",
              "    <tr style=\"text-align: right;\">\n",
              "      <th></th>\n",
              "      <th>person</th>\n",
              "      <th>event</th>\n",
              "      <th>value</th>\n",
              "      <th>time</th>\n",
              "    </tr>\n",
              "  </thead>\n",
              "  <tbody>\n",
              "    <tr>\n",
              "      <th>0</th>\n",
              "      <td>78afa995795e4d85b5d9ceeca43f5fef</td>\n",
              "      <td>offer received</td>\n",
              "      <td>{'offer id': '9b98b8c7a33c4b65b9aebfe6a799e6d9'}</td>\n",
              "      <td>0</td>\n",
              "    </tr>\n",
              "    <tr>\n",
              "      <th>1</th>\n",
              "      <td>a03223e636434f42ac4c3df47e8bac43</td>\n",
              "      <td>offer received</td>\n",
              "      <td>{'offer id': '0b1e1539f2cc45b7b9fa7c272da2e1d7'}</td>\n",
              "      <td>0</td>\n",
              "    </tr>\n",
              "    <tr>\n",
              "      <th>2</th>\n",
              "      <td>e2127556f4f64592b11af22de27a7932</td>\n",
              "      <td>offer received</td>\n",
              "      <td>{'offer id': '2906b810c7d4411798c6938adc9daaa5'}</td>\n",
              "      <td>0</td>\n",
              "    </tr>\n",
              "  </tbody>\n",
              "</table>\n",
              "</div>"
            ],
            "text/plain": [
              "                             person  ... time\n",
              "0  78afa995795e4d85b5d9ceeca43f5fef  ...    0\n",
              "1  a03223e636434f42ac4c3df47e8bac43  ...    0\n",
              "2  e2127556f4f64592b11af22de27a7932  ...    0\n",
              "\n",
              "[3 rows x 4 columns]"
            ]
          },
          "metadata": {
            "tags": []
          },
          "execution_count": 44
        }
      ]
    },
    {
      "cell_type": "code",
      "metadata": {
        "id": "moYFyE6h3Y86"
      },
      "source": [
        ""
      ],
      "execution_count": null,
      "outputs": []
    }
  ]
}